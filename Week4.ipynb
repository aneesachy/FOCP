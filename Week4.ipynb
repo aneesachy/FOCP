{
 "cells": [
  {
   "cell_type": "code",
   "execution_count": 1,
   "id": "059dbf23-3874-4d04-8378-f6bf842d7f5f",
   "metadata": {},
   "outputs": [
    {
     "name": "stdout",
     "output_type": "stream",
     "text": [
      "Is 30 in range 0 to 100? True\n",
      "Is 799 in range 0 to 100? False\n",
      "Is -120 in range 0 to 100? False\n",
      "Is 100 in range 0 to 100? True\n"
     ]
    }
   ],
   "source": [
    "def num_range(num):\n",
    "    if 0<=num<=100:\n",
    "        return True\n",
    "    else:\n",
    "        return False\n",
    "        \n",
    "test_numbers = [30,799,-120,100]\n",
    "for value in test_numbers:\n",
    "    result = num_range(value)\n",
    "    print(f\"Is {value} in range 0 to 100? {result}\")"
   ]
  },
  {
   "cell_type": "code",
   "execution_count": 2,
   "id": "5be826cf-fded-43f9-8b59-22c64650387e",
   "metadata": {},
   "outputs": [
    {
     "name": "stdin",
     "output_type": "stream",
     "text": [
      "Enter the text you want to count the casing for:  PaSSword\n"
     ]
    },
    {
     "name": "stdout",
     "output_type": "stream",
     "text": [
      "String: 'PaSSword'\n",
      "Uppercase letters: 3, Lowercase letters: 5\n",
      "\n"
     ]
    }
   ],
   "source": [
    "def string_casing(s):\n",
    "    upperCase = 0\n",
    "    lowerCase = 0\n",
    "\n",
    "    for char in s:\n",
    "        if char.isupper():\n",
    "            upperCase += 1\n",
    "        elif char.islower():\n",
    "            lowerCase +=1\n",
    "    return upperCase, lowerCase\n",
    "\n",
    "string_test = input(\"Enter the text you want to count the casing for: \")\n",
    "\n",
    "Upcase, lowcase = string_casing(string_test)\n",
    "print(f\"String: '{string_test}'\")\n",
    "print(f\"Uppercase letters: {Upcase}, Lowercase letters: {lowcase}\\n\")"
   ]
  },
  {
   "cell_type": "code",
   "execution_count": 3,
   "id": "b1446b05-5f9d-4d20-be6b-ab5215120045",
   "metadata": {},
   "outputs": [
    {
     "name": "stdin",
     "output_type": "stream",
     "text": [
      "Your name:  anisha\n"
     ]
    },
    {
     "name": "stdout",
     "output_type": "stream",
     "text": [
      "Greetings! Anisha\n"
     ]
    }
   ],
   "source": [
    "name = input(\"Your name: \")\n",
    "modify_name = name.capitalize()\n",
    "\n",
    "print(f\"Greetings! {modify_name}\")"
   ]
  },
  {
   "cell_type": "code",
   "execution_count": 4,
   "id": "2364a560-9941-426a-8fe5-bf1b6de21ce7",
   "metadata": {},
   "outputs": [
    {
     "name": "stdin",
     "output_type": "stream",
     "text": [
      "Enter a word:  cat\n"
     ]
    },
    {
     "data": {
      "text/plain": [
       "'ca'"
      ]
     },
     "execution_count": 4,
     "metadata": {},
     "output_type": "execute_result"
    }
   ],
   "source": [
    "def string_manipulation(s):\n",
    "    if len(s) >1:\n",
    "        return s[:-1]\n",
    "    else:\n",
    "        return s \n",
    "\n",
    "remove_last_char = input(\"Enter a word: \")\n",
    "string_manipulation(remove_last_char)"
   ]
  },
  {
   "cell_type": "code",
   "execution_count": 5,
   "id": "192a09a8-0435-44ce-9150-e14244eb76f1",
   "metadata": {},
   "outputs": [
    {
     "name": "stdin",
     "output_type": "stream",
     "text": [
      "Enter temperature in celsius:  36.4\n"
     ]
    },
    {
     "name": "stdout",
     "output_type": "stream",
     "text": [
      "36.4C is equivalent to 97.52F\n"
     ]
    },
    {
     "name": "stdin",
     "output_type": "stream",
     "text": [
      "Enter temperature in fahrenheit:  94.2\n"
     ]
    },
    {
     "name": "stdout",
     "output_type": "stream",
     "text": [
      "94.2F is equivalent to 34.55555555555556C\n"
     ]
    }
   ],
   "source": [
    "def cel_to_fah(celsius):\n",
    "    fahrenheit = celsius*(9/5) +32\n",
    "    return fahrenheit\n",
    "\n",
    "def fah_to_cel(fahr):\n",
    "    cels = (fahr-32) * 5/9\n",
    "    return cels\n",
    "\n",
    "temp_in_celsius = float(input(\"Enter temperature in celsius: \"))\n",
    "print(f\"{temp_in_celsius}C is equivalent to {cel_to_fah(temp_in_celsius)}F\")\n",
    "\n",
    "temp_in_fahrenheit =float(input(\"Enter temperature in fahrenheit: \"))\n",
    "print(f\"{temp_in_fahrenheit}F is equivalent to {fah_to_cel(temp_in_fahrenheit)}C\")"
   ]
  },
  {
   "cell_type": "code",
   "execution_count": 6,
   "id": "4feffce0-2d83-4464-9ae9-b612b2239e73",
   "metadata": {},
   "outputs": [
    {
     "name": "stdin",
     "output_type": "stream",
     "text": [
      "Enter temperature in Celsius (e.g., 25C):  34C\n"
     ]
    },
    {
     "name": "stdout",
     "output_type": "stream",
     "text": [
      "93.20F\n"
     ]
    }
   ],
   "source": [
    "def celsius_to_fahrenheit(celsius: float) -> float:\n",
    "    return (celsius * 9 / 5) + 32\n",
    "\n",
    "def main():\n",
    "   \n",
    "    input_temp = input(\"Enter temperature in Celsius (e.g., 25C): \").strip()\n",
    "    \n",
    "    if input_temp[-1].upper() == 'C' and input_temp[:-1].replace('.', '', 1).isdigit():\n",
    "        celsius = float(input_temp[:-1])\n",
    "        fahrenheit = celsius_to_fahrenheit(celsius)\n",
    "        print(f\"{fahrenheit:.2f}F\")\n",
    "        \n",
    "    else:\n",
    "        print(\"Invalid input. Please enter the temperature in the format 'XXC'.\")\n",
    "\n",
    "if __name__ == \"__main__\":\n",
    "    main()"
   ]
  },
  {
   "cell_type": "code",
   "execution_count": 7,
   "id": "493425fc-f614-4fd2-96ad-13532a5ff811",
   "metadata": {},
   "outputs": [
    {
     "name": "stdin",
     "output_type": "stream",
     "text": [
      "Enter temperature 1 in Celsius (e.g., 25C):  25.5C\n",
      "Enter temperature 2 in Celsius (e.g., 25C):  34.5C\n",
      "Enter temperature 3 in Celsius (e.g., 25C):  16C\n",
      "Enter temperature 4 in Celsius (e.g., 25C):  2C\n",
      "Enter temperature 5 in Celsius (e.g., 25C):  37C\n",
      "Enter temperature 6 in Celsius (e.g., 25C):  45C\n"
     ]
    },
    {
     "name": "stdout",
     "output_type": "stream",
     "text": [
      "Maximum Temperature: 113.00F\n",
      "Minimum Temperature: 35.60F\n",
      "Mean Temperature: 80.00F\n"
     ]
    }
   ],
   "source": [
    "def celsius_to_fahrenheit(celsius: float) -> float:\n",
    "    return (celsius * 9 / 5) + 32\n",
    "\n",
    "def main():\n",
    "    fahrenheit_temps = []\n",
    "    \n",
    "    for i in range(6):\n",
    "        input_temp = input(f\"Enter temperature {i+1} in Celsius (e.g., 25C): \").strip()\n",
    "        \n",
    "        if input_temp[-1].upper() == 'C' and input_temp[:-1].replace('.', '', 1).isdigit():\n",
    "            celsius = float(input_temp[:-1])\n",
    "            \n",
    "            fahrenheit = celsius_to_fahrenheit(celsius)\n",
    "            fahrenheit_temps.append(fahrenheit)\n",
    "        else:\n",
    "            print(\"Invalid input. Please enter the temperature in the format 'XXC'.\")\n",
    "            return  \n",
    "    \n",
    "    max_temp = max(fahrenheit_temps)\n",
    "    min_temp = min(fahrenheit_temps)\n",
    "    mean_temp = sum(fahrenheit_temps) / len(fahrenheit_temps)\n",
    "\n",
    "    print(f\"Maximum Temperature: {max_temp:.2f}F\")\n",
    "    print(f\"Minimum Temperature: {min_temp:.2f}F\")\n",
    "    print(f\"Mean Temperature: {mean_temp:.2f}F\")\n",
    "\n",
    "if __name__ == \"__main__\":\n",
    "    main()"
   ]
  },
  {
   "cell_type": "code",
   "execution_count": 8,
   "id": "d69cc8f8-ad43-42f3-9128-c2572cff6012",
   "metadata": {},
   "outputs": [
    {
     "name": "stdin",
     "output_type": "stream",
     "text": [
      "Enter temperature in Celsius (e.g., 25C) or press Enter to stop:  32C\n",
      "Enter temperature in Celsius (e.g., 25C) or press Enter to stop:  \n"
     ]
    },
    {
     "name": "stdout",
     "output_type": "stream",
     "text": [
      "Maximum Temperature: 89.60F\n",
      "Minimum Temperature: 89.60F\n",
      "Mean Temperature: 89.60F\n"
     ]
    }
   ],
   "source": [
    "def celsius_to_fahrenheit(celsius: float) -> float:\n",
    "    return (celsius * 9 / 5) + 32\n",
    "\n",
    "def main():\n",
    "    fahrenheit_temps = []  \n",
    "    \n",
    "    while True:\n",
    "        input_temp = input(\"Enter temperature in Celsius (e.g., 25C) or press Enter to stop: \").strip()\n",
    "        if input_temp == \"\":\n",
    "            break\n",
    "        \n",
    "        if input_temp[-1].upper() == 'C' and input_temp[:-1].replace('.', '', 1).isdigit():\n",
    "            # Extract the numeric part and convert to float\n",
    "            celsius = float(input_temp[:-1])\n",
    "            \n",
    "            fahrenheit = celsius_to_fahrenheit(celsius)\n",
    "            fahrenheit_temps.append(fahrenheit)\n",
    "        else:\n",
    "            print(\"Invalid input. Please enter the temperature in the format 'XXC'.\")\n",
    " \n",
    "    if fahrenheit_temps:\n",
    "        max_temp = max(fahrenheit_temps)\n",
    "        min_temp = min(fahrenheit_temps)\n",
    "        mean_temp = sum(fahrenheit_temps) / len(fahrenheit_temps)\n",
    "\n",
    "        print(f\"Maximum Temperature: {max_temp:.2f}F\")\n",
    "        print(f\"Minimum Temperature: {min_temp:.2f}F\")\n",
    "        print(f\"Mean Temperature: {mean_temp:.2f}F\")\n",
    "    else:\n",
    "        print(\"No valid temperatures were entered.\")\n",
    "\n",
    "if __name__ == \"__main__\":\n",
    "    main()"
   ]
  },
  {
   "cell_type": "code",
   "execution_count": 4,
   "id": "d86598b0-3018-4fba-a153-2e7e17f51253",
   "metadata": {},
   "outputs": [],
   "source": [
    "def find_factors(n):\n",
    "    if n <= 0:\n",
    "        return \"Input must be a positive integer\"\n",
    "    \n",
    "    factors = []\n",
    "    for i in range(1, n + 1):\n",
    "        if n % i == 0:\n",
    "            factors.append(i)\n",
    "    \n",
    "    return factors\n",
    "\n",
    "\n"
   ]
  },
  {
   "cell_type": "code",
   "execution_count": null,
   "id": "5ba21b5d-cec8-4d68-b2b9-91ff211b3d21",
   "metadata": {},
   "outputs": [],
   "source": []
  },
  {
   "cell_type": "code",
   "execution_count": null,
   "id": "20cb4468-ce3d-468c-bee5-d6dce2676740",
   "metadata": {},
   "outputs": [],
   "source": []
  }
 ],
 "metadata": {
  "kernelspec": {
   "display_name": "Python 3 (ipykernel)",
   "language": "python",
   "name": "python3"
  },
  "language_info": {
   "codemirror_mode": {
    "name": "ipython",
    "version": 3
   },
   "file_extension": ".py",
   "mimetype": "text/x-python",
   "name": "python",
   "nbconvert_exporter": "python",
   "pygments_lexer": "ipython3",
   "version": "3.12.1"
  }
 },
 "nbformat": 4,
 "nbformat_minor": 5
}
