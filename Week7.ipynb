{
 "cells": [
  {
   "cell_type": "code",
   "execution_count": 1,
   "id": "da972dab-b88d-47e5-a0a7-fc3366333973",
   "metadata": {},
   "outputs": [
    {
     "name": "stdout",
     "output_type": "stream",
     "text": [
      "['d', 'e', 'g', 'h', 'i', 'l', 'm', 'n', 'o', 'r']\n",
      "[]\n"
     ]
    }
   ],
   "source": [
    "def sort_string(string):\n",
    "    unique_letters = set(char.lower() for char in string if char.isalpha())\n",
    "    return sorted(unique_letters)\n",
    "\n",
    "print(sort_string(\"Hello, Goodmorning!\"))\n",
    "print(sort_string(\"78294\"))"
   ]
  },
  {
   "cell_type": "code",
   "execution_count": 2,
   "id": "a714bf84-7f8d-41d9-b14b-25d645a54d7b",
   "metadata": {},
   "outputs": [
    {
     "name": "stdout",
     "output_type": "stream",
     "text": [
      "['a', 'e', 'g', 'l', 'm', 'n', 'o', 'p']\n",
      "['a', 'e', 'n', 'p']\n",
      "['a', 'b', 'c', 'e', 'h', 'i', 'l', 'r', 's', 'w', 'y']\n"
     ]
    }
   ],
   "source": [
    "def sort_string(string):\n",
    "    unique_letters = set(char.lower() for char in string if char.isalpha())\n",
    "    return sorted(unique_letters)\n",
    "\n",
    "atleast_one_letter= lambda word1,word2: sorted(set(sort_string(word1)) | set(sort_string(word2)))\n",
    "\n",
    "letter_both_word = lambda word1, word2: sorted(set(sort_string(word1)) & set(sort_string(word2)))\n",
    "\n",
    "\n",
    "letter_either_not_both = lambda word1, word2: sorted(set(sort_string(word1)) ^ set(sort_string(word2)))\n",
    "\n",
    "print(atleast_one_letter(\"apple\", \"mango\"))\n",
    "print(letter_both_word(\"pineapple\", \"pomegranate\"))\n",
    "print(letter_either_not_both(\"strawberry\", \"litchi\")) "
   ]
  },
  {
   "cell_type": "code",
   "execution_count": 3,
   "id": "3eb573cc-aced-42cd-a20b-0b43a4cef968",
   "metadata": {},
   "outputs": [
    {
     "name": "stdin",
     "output_type": "stream",
     "text": [
      "Enter the name of a country (or type 'exit' to quit):  Nepal\n",
      "Enter the capital city of Nepal:  Kathmandu\n"
     ]
    },
    {
     "name": "stdout",
     "output_type": "stream",
     "text": [
      "Thank you! The capital of Nepal has been recorded as Kathmandu.\n"
     ]
    },
    {
     "name": "stdin",
     "output_type": "stream",
     "text": [
      "Enter the name of a country (or type 'exit' to quit):  Exit\n"
     ]
    },
    {
     "name": "stdout",
     "output_type": "stream",
     "text": [
      "Exiting the program.\n"
     ]
    }
   ],
   "source": [
    "def manage_country_capitals():\n",
    "    country_capitals = {}\n",
    "\n",
    "    while True:\n",
    "        country = input(\"Enter the name of a country (or type 'exit' to quit): \").strip()\n",
    "        \n",
    "        if country.lower() == 'exit':\n",
    "            print(\"Exiting the program.\")\n",
    "            break\n",
    "        country_lower = country.lower()\n",
    "\n",
    "        if country_lower in country_capitals:\n",
    "            print(f\"The capital of {country} is {country_capitals[country_lower]}.\")\n",
    "        else:\n",
    "            capital = input(f\"Enter the capital city of {country}: \").strip()\n",
    "            country_capitals[country_lower] = capital\n",
    "            print(f\"Thank you! The capital of {country} has been recorded as {capital}.\")\n",
    "            \n",
    "manage_country_capitals()"
   ]
  },
  {
   "cell_type": "code",
   "execution_count": 1,
   "id": "8a859350-7e9e-4194-a69b-a68d63d0d0da",
   "metadata": {},
   "outputs": [
    {
     "name": "stdout",
     "output_type": "stream",
     "text": [
      "[('e', 5), ('s', 5), ('t', 5), ('m', 4), ('o', 4), ('l', 3)]\n"
     ]
    }
   ],
   "source": [
    "def report_most_common_letters(message):\n",
    "    letters = [char.lower() for char in message if char.isalpha()]\n",
    "    letter_counts = {}\n",
    "    for letter in letters:\n",
    "        letter_counts[letter] = letter_counts.get(letter, 0) + 1\n",
    "        \n",
    "    sorted_counts = sorted(letter_counts.items(), key=lambda x: (-x[1], x[0]))\n",
    "    return sorted_counts[:6]\n",
    "\n",
    "\n",
    "print(report_most_common_letters(\"This message will report most common letters\"))\n"
   ]
  },
  {
   "cell_type": "code",
   "execution_count": null,
   "id": "56f024e7-63d6-4d74-a419-94bd59030ac2",
   "metadata": {},
   "outputs": [],
   "source": []
  }
 ],
 "metadata": {
  "kernelspec": {
   "display_name": "Python 3 (ipykernel)",
   "language": "python",
   "name": "python3"
  },
  "language_info": {
   "codemirror_mode": {
    "name": "ipython",
    "version": 3
   },
   "file_extension": ".py",
   "mimetype": "text/x-python",
   "name": "python",
   "nbconvert_exporter": "python",
   "pygments_lexer": "ipython3",
   "version": "3.12.1"
  }
 },
 "nbformat": 4,
 "nbformat_minor": 5
}
