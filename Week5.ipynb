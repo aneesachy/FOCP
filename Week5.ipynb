{
 "cells": [
  {
   "cell_type": "code",
   "execution_count": 3,
   "id": "0c3db91f-56fc-46e3-9c25-cc62c5b0d56e",
   "metadata": {},
   "outputs": [
    {
     "name": "stdout",
     "output_type": "stream",
     "text": [
      "Operating System Platform: win32\n"
     ]
    }
   ],
   "source": [
    "import sys\n",
    "def main():\n",
    "    print(f\"Operating System Platform: {sys.platform}\")\n",
    "if __name__ == \"__main__\":\n",
    "    main()"
   ]
  },
  {
   "cell_type": "code",
   "execution_count": 2,
   "id": "052cfa49-d1d7-45dc-9b1d-b1d44922706a",
   "metadata": {},
   "outputs": [
    {
     "name": "stdout",
     "output_type": "stream",
     "text": [
      "Number of arguments provided: 2\n"
     ]
    }
   ],
   "source": [
    "import sys\n",
    "def main():\n",
    "    num_args = len(sys.argv) - 1\n",
    "    print(f\"Number of arguments provided: {num_args}\")\n",
    "if __name__ == \"__main__\":\n",
    "    main()"
   ]
  },
  {
   "cell_type": "code",
   "execution_count": 1,
   "id": "cf9518b6-2437-41f5-96e0-c0a42bf62cee",
   "metadata": {},
   "outputs": [
    {
     "name": "stdout",
     "output_type": "stream",
     "text": [
      "The shortest argument is: -f\n"
     ]
    }
   ],
   "source": [
    "import sys\n",
    "def find_shortest_argument(args):\n",
    "    if len(args) == 0:\n",
    "        print(\"No arguments provided.\")\n",
    "        return\n",
    "    sorted_args = sorted(args, key=len)\n",
    "    print(f\"The shortest argument is: {sorted_args[0]}\")\n",
    "if __name__ == \"__main__\":\n",
    "    if len(sys.argv) < 2:\n",
    "        print(\"Usage: python find_shortest_argument.py <arg1> <arg2> ...\")\n",
    "    else:\n",
    "        find_shortest_argument(sys.argv[1:])\n"
   ]
  },
  {
   "cell_type": "code",
   "execution_count": 3,
   "id": "f3f4169f-151e-424e-8d19-46662ab2247d",
   "metadata": {},
   "outputs": [
    {
     "name": "stdout",
     "output_type": "stream",
     "text": [
      "Usage: python check_website.py <URL>\n"
     ]
    }
   ],
   "source": [
    "\n",
    "import sys\n",
    "import requests\n",
    "\n",
    "def check_website(url):\n",
    "    try:\n",
    "        response = requests.get(url)\n",
    "        if response.status_code == 200:\n",
    "            print(f\"The website at {url} is working.\")\n",
    "        else:\n",
    "            print(f\"The website at {url} is not working. HTTP response code: {response.status_code}\")\n",
    "    except requests.RequestException as e:\n",
    "        print(f\"Error: Could not reach the website at {url}. Exception: {e}\")\n",
    "\n",
    "if __name__ == \"__main__\":\n",
    "    if len(sys.argv) != 2:\n",
    "        print(\"Usage: python check_website.py <URL>\")\n",
    "    else:\n",
    "        check_website(sys.argv[1])\n"
   ]
  },
  {
   "cell_type": "code",
   "execution_count": 4,
   "id": "c9414cb8-1d05-497b-b9ee-5f480e066662",
   "metadata": {},
   "outputs": [
    {
     "name": "stdout",
     "output_type": "stream",
     "text": [
      "Error: All temperature readings must be numbers.\n"
     ]
    }
   ],
   "source": [
    "import sys\n",
    "\n",
    "def calculate_statistics(temperatures):\n",
    "    if not temperatures:\n",
    "        print(\"No temperature readings provided.\")\n",
    "        return\n",
    "\n",
    "    max_temp = max(temperatures)\n",
    "    min_temp = min(temperatures)\n",
    "    mean_temp = sum(temperatures) / len(temperatures)\n",
    "\n",
    "    print(f\"Maximum temperature: {max_temp}\")\n",
    "    print(f\"Minimum temperature: {min_temp}\")\n",
    "    print(f\"Mean temperature: {mean_temp:.2f}\")\n",
    "\n",
    "if __name__ == \"__main__\":\n",
    "    if len(sys.argv) < 2:\n",
    "        print(\"Usage: python temperature_statistics.py <temp1> <temp2> ...\")\n",
    "    else:\n",
    "        try:\n",
    "            temperatures = [float(temp) for temp in sys.argv[1:]]\n",
    "            calculate_statistics(temperatures)\n",
    "        except ValueError:\n",
    "            print(\"Error: All temperature readings must be numbers.\")\n"
   ]
  },
  {
   "cell_type": "code",
   "execution_count": 5,
   "id": "09253b63-2ab7-4bc9-bc85-4fede5de8502",
   "metadata": {},
   "outputs": [
    {
     "name": "stdout",
     "output_type": "stream",
     "text": [
      "Error: The file '-f' was not found.\n"
     ]
    }
   ],
   "source": [
    "import shutil\n",
    "import sys\n",
    "\n",
    "def create_backup(original_file, backup_file):\n",
    "    try:\n",
    "        shutil.copyfile(original_file, backup_file)\n",
    "        print(f\"Backup of '{original_file}' created as '{backup_file}'\")\n",
    "    except FileNotFoundError:\n",
    "        print(f\"Error: The file '{original_file}' was not found.\")\n",
    "    except Exception as e:\n",
    "        print(f\"An error occurred: {e}\")\n",
    "\n",
    "if __name__ == \"__main__\":\n",
    "    if len(sys.argv) != 3:\n",
    "        print(\"Usage: python create_backup.py <original_file> <backup_file>\")\n",
    "    else:\n",
    "        create_backup(sys.argv[1], sys.argv[2])\n"
   ]
  },
  {
   "cell_type": "code",
   "execution_count": null,
   "id": "dc83a344-3263-4661-8314-22a0fa8ad4e7",
   "metadata": {},
   "outputs": [],
   "source": []
  }
 ],
 "metadata": {
  "kernelspec": {
   "display_name": "Python 3 (ipykernel)",
   "language": "python",
   "name": "python3"
  },
  "language_info": {
   "codemirror_mode": {
    "name": "ipython",
    "version": 3
   },
   "file_extension": ".py",
   "mimetype": "text/x-python",
   "name": "python",
   "nbconvert_exporter": "python",
   "pygments_lexer": "ipython3",
   "version": "3.12.1"
  }
 },
 "nbformat": 4,
 "nbformat_minor": 5
}
