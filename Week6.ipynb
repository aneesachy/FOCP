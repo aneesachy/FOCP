{
 "cells": [
  {
   "cell_type": "code",
   "execution_count": 1,
   "id": "edf33dde-fdd0-4c74-b740-fc29b2bdca67",
   "metadata": {},
   "outputs": [
    {
     "name": "stdin",
     "output_type": "stream",
     "text": [
      "Enter the number you want to convert into binary digits:  45\n"
     ]
    },
    {
     "name": "stdout",
     "output_type": "stream",
     "text": [
      "101101\n"
     ]
    }
   ],
   "source": [
    "def to_binary(n):\n",
    "    if n <= 0:\n",
    "        return \"Input must be a positive integer\"\n",
    "    return bin(n)[2:]\n",
    "\n",
    "number = int(input(\"Enter the number you want to convert into binary digits: \"))\n",
    "print(to_binary(number))  "
   ]
  },
  {
   "cell_type": "code",
   "execution_count": 2,
   "id": "98262534-432b-45e4-b417-3df0cdd290b5",
   "metadata": {},
   "outputs": [
    {
     "name": "stdin",
     "output_type": "stream",
     "text": [
      "Enter the number for factorisation:  10\n"
     ]
    },
    {
     "name": "stdout",
     "output_type": "stream",
     "text": [
      "[1, 2, 5, 10]\n"
     ]
    }
   ],
   "source": [
    "def factor_int(num):\n",
    "    if num <= 0:\n",
    "        return \"Input must be a positive integer\"\n",
    "    factors = []\n",
    "    \n",
    "    for i in range(1, num + 1):\n",
    "        if num % i == 0:\n",
    "            factors.append(i)\n",
    "    return factors\n",
    "\n",
    "number = int(input(\"Enter the number for factorisation: \"))\n",
    "print(factor_int(number))  \n",
    "\n"
   ]
  },
  {
   "cell_type": "code",
   "execution_count": 3,
   "id": "52903077-aa07-47bd-a8e7-edfdabf94460",
   "metadata": {},
   "outputs": [
    {
     "name": "stdin",
     "output_type": "stream",
     "text": [
      "Enter a number to check whether it is a prime number:  30\n"
     ]
    },
    {
     "name": "stdout",
     "output_type": "stream",
     "text": [
      "30 is not a prime number.\n"
     ]
    }
   ],
   "source": [
    "from math import sqrt\n",
    "\n",
    "def prime_number(num):\n",
    "    if num<=1:\n",
    "        return \"please enter a value greater than 1\"\n",
    "\n",
    "    for i in range(2, int(sqrt(num)) +1):\n",
    "        if num%i == 0:\n",
    "            return f\"{num} is not a prime number.\"\n",
    "\n",
    "    return f\"{num} is a prime number.\"\n",
    "\n",
    "prime = int(input(\"Enter a number to check whether it is a prime number: \"))\n",
    "print(prime_number(prime))\n"
   ]
  },
  {
   "cell_type": "code",
   "execution_count": 4,
   "id": "11f05fe7-a328-43a5-bb76-2be6c3f4d668",
   "metadata": {},
   "outputs": [
    {
     "name": "stdin",
     "output_type": "stream",
     "text": [
      "Type word or sentence for encryption:  Hi\n"
     ]
    },
    {
     "name": "stdout",
     "output_type": "stream",
     "text": [
      "iH\n"
     ]
    }
   ],
   "source": [
    "def encrypt_message(mssg):\n",
    "    encrypted_msg = mssg.replace(\" \", \"\")[::-1]\n",
    "    return encrypted_msg\n",
    "\n",
    "message = input(\"Type word or sentence for encryption: \")\n",
    "print(encrypt_message(message))"
   ]
  },
  {
   "cell_type": "code",
   "execution_count": 2,
   "id": "894340fa-e2a4-45ea-81d0-98d7636b0231",
   "metadata": {},
   "outputs": [
    {
     "name": "stdin",
     "output_type": "stream",
     "text": [
      "Enter the message for encryption:  password\n"
     ]
    },
    {
     "name": "stdout",
     "output_type": "stream",
     "text": [
      "Original Message: password\n",
      "Encrypted Message: pxxxxxxx\n",
      "Interval: 18\n",
      "Key: ['a', 's', 's', 'w', 'o', 'r', 'd']\n"
     ]
    }
   ],
   "source": [
    "import random\n",
    "\n",
    "def encrypt_message_with_key(message):\n",
    "    interval = random.randint(2, 20)\n",
    "    encrypted_message = []\n",
    "    key = []  # Store all original characters that are replaced\n",
    "    \n",
    "    for i in range(len(message)):\n",
    "        if i % interval == 0:\n",
    "            encrypted_message.append(message[i])\n",
    "        else:\n",
    "            encrypted_message.append('x')\n",
    "            key.append(message[i])  # Save the replaced character\n",
    "    \n",
    "    encrypted_message_str = ''.join(encrypted_message)\n",
    "    return encrypted_message_str, interval, key\n",
    "\n",
    "# Example usage\n",
    "message = input(\"Enter the message for encryption: \")\n",
    "encrypted_message, interval, key = encrypt_message_with_key(message)\n",
    "\n",
    "print(f\"Original Message: {message}\")\n",
    "print(f\"Encrypted Message: {encrypted_message}\")\n",
    "print(f\"Interval: {interval}\")\n",
    "print(f\"Key: {key}\")"
   ]
  },
  {
   "cell_type": "code",
   "execution_count": 4,
   "id": "cdcc98de-0a4a-4690-8cdc-855f70e58059",
   "metadata": {},
   "outputs": [
    {
     "name": "stdin",
     "output_type": "stream",
     "text": [
      "Enter the encrypted message:  pxxxxxxx\n",
      "Enter the encryption interval:  18\n",
      "Enter the key (comma-separated):  'a', 's', 's', 'w', 'o', 'r', 'd'\n"
     ]
    },
    {
     "name": "stdout",
     "output_type": "stream",
     "text": [
      "Encrypted Message: pxxxxxxx\n",
      "Decrypted (Original) Message: p'a' 's' 's' 'w' 'o' 'r' 'd'\n"
     ]
    }
   ],
   "source": [
    "def decrypt_message_with_key(encrypted_message, interval, key):\n",
    "    decrypted_message = []\n",
    "    key_index = 0\n",
    "\n",
    "    for i in range(len(encrypted_message)):\n",
    "        if i % interval == 0:\n",
    "            decrypted_message.append(encrypted_message[i])  # Use the retained character\n",
    "        else:\n",
    "            decrypted_message.append(key[key_index])  # Use characters from the key\n",
    "            key_index += 1\n",
    "\n",
    "    return ''.join(decrypted_message)\n",
    "\n",
    "encrypted_message = input(\"Enter the encrypted message: \")\n",
    "interval = int(input(\"Enter the encryption interval: \"))\n",
    "key = input(\"Enter the key (comma-separated): \").split(',')\n",
    "\n",
    "original_message = decrypt_message_with_key(encrypted_message, interval, key)\n",
    "\n",
    "print(f\"Encrypted Message: {encrypted_message}\")\n",
    "print(f\"Decrypted (Original) Message: {original_message}\")\n"
   ]
  },
  {
   "cell_type": "code",
   "execution_count": null,
   "id": "e5d5275c-03fe-4493-86c9-8fe50ef2d03b",
   "metadata": {},
   "outputs": [],
   "source": []
  },
  {
   "cell_type": "code",
   "execution_count": null,
   "id": "9f35734a-a545-4444-af15-956dfcbd3689",
   "metadata": {},
   "outputs": [],
   "source": []
  }
 ],
 "metadata": {
  "kernelspec": {
   "display_name": "Python 3 (ipykernel)",
   "language": "python",
   "name": "python3"
  },
  "language_info": {
   "codemirror_mode": {
    "name": "ipython",
    "version": 3
   },
   "file_extension": ".py",
   "mimetype": "text/x-python",
   "name": "python",
   "nbconvert_exporter": "python",
   "pygments_lexer": "ipython3",
   "version": "3.12.1"
  }
 },
 "nbformat": 4,
 "nbformat_minor": 5
}
