{
 "cells": [
  {
   "cell_type": "code",
   "execution_count": 1,
   "id": "75b1856f-fe4d-4f0c-9e2b-40de6d4d986c",
   "metadata": {},
   "outputs": [
    {
     "name": "stdin",
     "output_type": "stream",
     "text": [
      "Hello, what is your name?  Mr Albatros\n"
     ]
    },
    {
     "name": "stdout",
     "output_type": "stream",
     "text": [
      "Hello, Mr Albatros. Good to meet you!\n"
     ]
    }
   ],
   "source": [
    "name=input(\"Hello, what is your name? \")\n",
    "print(f\"Hello, {name}. Good to meet you!\")\n"
   ]
  },
  {
   "cell_type": "code",
   "execution_count": 2,
   "id": "28927c66-f40d-49b2-b4ca-d78e4a4e738f",
   "metadata": {},
   "outputs": [
    {
     "name": "stdin",
     "output_type": "stream",
     "text": [
      "Enter temperature in celcius:  45.2\n"
     ]
    },
    {
     "name": "stdout",
     "output_type": "stream",
     "text": [
      "45.2c is equivalent to 113.36f.\n"
     ]
    }
   ],
   "source": [
    "celsius=float(input(\"Enter temperature in celcius: \"))\n",
    "fahrenheit=(celsius * 9/5) +32\n",
    "print(f\"{celsius}c is equivalent to {fahrenheit}f.\")\n"
   ]
  },
  {
   "cell_type": "code",
   "execution_count": 3,
   "id": "47e97580-9df6-46ca-8f86-e59984c55e71",
   "metadata": {},
   "outputs": [
    {
     "name": "stdin",
     "output_type": "stream",
     "text": [
      "How many students?  31\n",
      "Required group size?  5\n"
     ]
    },
    {
     "name": "stdout",
     "output_type": "stream",
     "text": [
      "There will be 6 groups with 1 student left over.\n"
     ]
    }
   ],
   "source": [
    "students=int(input(\"How many students? \"))\n",
    "group_size=int(input(\"Required group size? \"))\n",
    "\n",
    "groups_required= students//group_size\n",
    "students_left= students % group_size\n",
    "\n",
    "if students_left ==1:\n",
    "    print(f\"There will be {groups_required} groups with {students_left} student left over.\")\n",
    "else:\n",
    "    print(f\"There will be {groups_required} groups with {students_left} student left over.\")"
   ]
  },
  {
   "cell_type": "code",
   "execution_count": 6,
   "id": "07f54fdc-1b62-4ef3-8372-504dce3f9a76",
   "metadata": {},
   "outputs": [
    {
     "name": "stdin",
     "output_type": "stream",
     "text": [
      "Enter the number of pupils present:  6\n",
      "Enter the amounts of sweets you have:  30\n"
     ]
    },
    {
     "name": "stdout",
     "output_type": "stream",
     "text": [
      "You must distribute5 sweets to each pupil, you will have 0 sweets left over.\n"
     ]
    }
   ],
   "source": [
    "pupils = int(input(\"Enter the number of pupils present: \"))\n",
    "sweets_available = int(input(\"Enter the amounts of sweets you have: \"))\n",
    "\n",
    "sweet_to_distribute = sweets_available // pupils\n",
    "sweets_left= sweets_available % pupils\n",
    "\n",
    "print(f\"You must distribute{sweet_to_distribute} sweets to each pupil, you will have {sweets_left} sweets left over.\")\n"
   ]
  },
  {
   "cell_type": "code",
   "execution_count": null,
   "id": "fa7bb087-73ce-4193-bba8-6d468b572944",
   "metadata": {},
   "outputs": [],
   "source": []
  }
 ],
 "metadata": {
  "kernelspec": {
   "display_name": "Python 3 (ipykernel)",
   "language": "python",
   "name": "python3"
  },
  "language_info": {
   "codemirror_mode": {
    "name": "ipython",
    "version": 3
   },
   "file_extension": ".py",
   "mimetype": "text/x-python",
   "name": "python",
   "nbconvert_exporter": "python",
   "pygments_lexer": "ipython3",
   "version": "3.12.1"
  }
 },
 "nbformat": 4,
 "nbformat_minor": 5
}
