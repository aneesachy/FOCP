{
 "cells": [
  {
   "cell_type": "code",
   "execution_count": 1,
   "id": "720eb097-7e8a-4476-aade-ece1059ca0d1",
   "metadata": {},
   "outputs": [
    {
     "name": "stdin",
     "output_type": "stream",
     "text": [
      "Enter your name:  Stranger\n"
     ]
    },
    {
     "name": "stdout",
     "output_type": "stream",
     "text": [
      "Hello, Stranger!\n"
     ]
    }
   ],
   "source": [
    "name = input(\"Enter your name: \")\n",
    "if name == \"\":\n",
    "    print(\"Hello, Stranger!\")\n",
    "else: \n",
    "    print(f\"Hello, {name}!\")"
   ]
  },
  {
   "cell_type": "code",
   "execution_count": 2,
   "id": "e5c18d16-1684-408c-8367-be69802f8b0f",
   "metadata": {},
   "outputs": [
    {
     "name": "stdin",
     "output_type": "stream",
     "text": [
      "Enter the password:  1234\n",
      "Confirm the password:  1234\n"
     ]
    },
    {
     "name": "stdout",
     "output_type": "stream",
     "text": [
      "Password Set\n"
     ]
    }
   ],
   "source": [
    "password = input(\"Enter the password: \")\n",
    "confirm_password = input(\"Confirm the password: \")\n",
    "\n",
    "if password == confirm_password:\n",
    "    print(\"Password Set\")\n",
    "else:\n",
    "    print(\"Sorry! The password did not match\")"
   ]
  },
  {
   "cell_type": "code",
   "execution_count": 4,
   "id": "a0742bd5-c0e0-4f3f-8c32-2a1652360e17",
   "metadata": {},
   "outputs": [
    {
     "name": "stdin",
     "output_type": "stream",
     "text": [
      "Enter the password:  abcd\n"
     ]
    },
    {
     "name": "stdout",
     "output_type": "stream",
     "text": [
      "Password must be between 8 to 12 characters long.\n"
     ]
    }
   ],
   "source": [
    "password = input(\"Enter the password: \")\n",
    "\n",
    "if len(password)<8 or len(password)>12:\n",
    "    print(\"Password must be between 8 to 12 characters long.\")\n",
    "else:\n",
    "    confirm_password = input(\"Confirm the password: \")\n",
    "\n",
    "    if password == confirm_password:\n",
    "        print(\"Password Set\")\n",
    "    else:\n",
    "        print(\"Sorry! The password did not match\")"
   ]
  },
  {
   "cell_type": "code",
   "execution_count": 6,
   "id": "30cac4ee-f1be-457f-9ad2-8864a7ac2a7b",
   "metadata": {},
   "outputs": [
    {
     "name": "stdin",
     "output_type": "stream",
     "text": [
      "Enter the password:  password\n"
     ]
    },
    {
     "name": "stdout",
     "output_type": "stream",
     "text": [
      "The password you entered is too common. Please choose a strong password.\n"
     ]
    }
   ],
   "source": [
    "BAD_PASSWORDS = ['password', 'letmein', 'sesame', 'hello', 'justinbieber']\n",
    "\n",
    "password = input(\"Enter the password: \")\n",
    "\n",
    "if len(password)<8 or len(password)>12:\n",
    "    print(\"Password must be between 8 to 12 characters long.\")\n",
    "elif password.lower() in [bad.lower() for bad in BAD_PASSWORDS]:\n",
    "    print(\"The password you entered is too common. Please choose a strong password.\")\n",
    "else:\n",
    "    confirm_password = input(\"Confirm the password: \")\n",
    "\n",
    "    if password == confirm_password:\n",
    "        print(\"Password Set\")\n",
    "    else:\n",
    "        print(\"Sorry! The password did not match\")"
   ]
  },
  {
   "cell_type": "code",
   "execution_count": 7,
   "id": "1e750e61-2ca7-4498-bf3b-263a5baa9dbf",
   "metadata": {},
   "outputs": [
    {
     "name": "stdin",
     "output_type": "stream",
     "text": [
      "Enter the password:  nepal123\n",
      "Confirm the password:  nepal123\n"
     ]
    },
    {
     "name": "stdout",
     "output_type": "stream",
     "text": [
      "Password Set\n"
     ]
    }
   ],
   "source": [
    "AD_PASSWORDS = ['password', 'letmein', 'sesame', 'hello', 'justinbieber']\n",
    "\n",
    "def password_validation(password):\n",
    "    if len(password)<8 or len(password)>12:\n",
    "        print(\"Password must be between 8 to 12 characters long.\")\n",
    "        return False\n",
    "        \n",
    "    if password.lower() in [bad.lower() for bad in BAD_PASSWORDS]:\n",
    "        print(\"The password you entered is too common. Please choose a strong password.\")\n",
    "        return False\n",
    "\n",
    "    return True\n",
    "\n",
    "def main():\n",
    "    while True:\n",
    "        password = input(\"Enter the password: \")\n",
    "        \n",
    "        if password_validation(password):\n",
    "            confirm_password = input(\"Confirm the password: \")\n",
    "\n",
    "            if password == confirm_password:\n",
    "                print(\"Password Set\")\n",
    "                break\n",
    "            else:\n",
    "                print(\"Sorry! The password did not match\")\n",
    "        else:\n",
    "            print(\"Please enter a valid password.\")\n",
    "\n",
    "main()"
   ]
  },
  {
   "cell_type": "code",
   "execution_count": 8,
   "id": "a26eea0f-b421-42ac-b31a-beee0b30a9e1",
   "metadata": {},
   "outputs": [
    {
     "name": "stdout",
     "output_type": "stream",
     "text": [
      "0 * 7 = 0\n",
      "1 * 7 = 7\n",
      "2 * 7 = 14\n",
      "3 * 7 = 21\n",
      "4 * 7 = 28\n",
      "5 * 7 = 35\n",
      "6 * 7 = 42\n",
      "7 * 7 = 49\n",
      "8 * 7 = 56\n",
      "9 * 7 = 63\n",
      "10 * 7 = 70\n",
      "11 * 7 = 77\n",
      "12 * 7 = 84\n"
     ]
    }
   ],
   "source": [
    "for i in range(13):\n",
    "    print(f\"{i} * 7 = {i*7}\")"
   ]
  },
  {
   "cell_type": "code",
   "execution_count": 9,
   "id": "fe783062-1c4f-4555-ab96-4ab436a9986f",
   "metadata": {},
   "outputs": [
    {
     "name": "stdin",
     "output_type": "stream",
     "text": [
      "Enter a number between 0 to 12 5\n"
     ]
    },
    {
     "name": "stdout",
     "output_type": "stream",
     "text": [
      "0 * 5 = 0\n",
      "1 * 5 = 5\n",
      "2 * 5 = 10\n",
      "3 * 5 = 15\n",
      "4 * 5 = 20\n",
      "5 * 5 = 25\n",
      "6 * 5 = 30\n",
      "7 * 5 = 35\n",
      "8 * 5 = 40\n",
      "9 * 5 = 45\n",
      "10 * 5 = 50\n",
      "11 * 5 = 55\n",
      "12 * 5 = 60\n"
     ]
    }
   ],
   "source": [
    "user_input = int(input(\"Enter a number between 0 to 12\"))\n",
    "\n",
    "if 0<= user_input <=12:\n",
    "    for i in range(13):\n",
    "        print(f\"{i} * {user_input} = {i*user_input}\")\n",
    "else:\n",
    "    print(\"Please enter a valid number between 0 and 12\")"
   ]
  },
  {
   "cell_type": "code",
   "execution_count": 10,
   "id": "f8cb2f47-1409-4d93-b968-fb9f36c98164",
   "metadata": {},
   "outputs": [
    {
     "name": "stdin",
     "output_type": "stream",
     "text": [
      "Enter a number between 0 to 12:  -4\n"
     ]
    },
    {
     "name": "stdout",
     "output_type": "stream",
     "text": [
      "12 x 4 = 48\n",
      "11 x 4 = 44\n",
      "10 x 4 = 40\n",
      "9 x 4 = 36\n",
      "8 x 4 = 32\n",
      "7 x 4 = 28\n",
      "6 x 4 = 24\n",
      "5 x 4 = 20\n",
      "4 x 4 = 16\n",
      "3 x 4 = 12\n",
      "2 x 4 = 8\n",
      "1 x 4 = 4\n",
      "0 x 4 = 0\n"
     ]
    }
   ],
   "source": [
    "user_input = int(input(\"Enter a number between 0 to 12: \"))\n",
    "\n",
    "if -12<= user_input <=12:\n",
    "    if user_input < 0:\n",
    "        for i in range(12, -1, -1):\n",
    "            print(f\"{i} x {abs(user_input)} = {i * abs(user_input)}\")\n",
    "    else:\n",
    "        for i in range(13):\n",
    "            print(f\"{i} * {user_input} = {i*user_input}\")\n",
    "else:\n",
    "    print(\"Please enter a valid number between 0 and 12\")"
   ]
  },
  {
   "cell_type": "code",
   "execution_count": null,
   "id": "7d2e68aa-142c-44a5-8b52-db5510734865",
   "metadata": {},
   "outputs": [],
   "source": []
  }
 ],
 "metadata": {
  "kernelspec": {
   "display_name": "Python 3 (ipykernel)",
   "language": "python",
   "name": "python3"
  },
  "language_info": {
   "codemirror_mode": {
    "name": "ipython",
    "version": 3
   },
   "file_extension": ".py",
   "mimetype": "text/x-python",
   "name": "python",
   "nbconvert_exporter": "python",
   "pygments_lexer": "ipython3",
   "version": "3.12.1"
  }
 },
 "nbformat": 4,
 "nbformat_minor": 5
}
